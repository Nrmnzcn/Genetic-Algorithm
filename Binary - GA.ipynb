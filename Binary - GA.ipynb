{
 "cells": [
  {
   "cell_type": "markdown",
   "metadata": {},
   "source": [
    "# BINARY GENETIC ALGORITHM"
   ]
  },
  {
   "cell_type": "markdown",
   "metadata": {},
   "source": [
    "0 ve 1'lerden oluşan parolanın Genetik Algoritma yöntemi ile tespit edilmesine yönelik oluşturulmuş basit bir algoritmadır. Turnuva Seçimi ile tek noktadan çaprazlama yöntemleri kullanılmıştır."
   ]
  },
  {
   "cell_type": "code",
   "execution_count": 126,
   "metadata": {},
   "outputs": [],
   "source": [
    "# ************  Kütüphanelerin Yüklenmesi  ************ #\n",
    "\n",
    "import random\n",
    "import numpy as np\n",
    "import matplotlib.pyplot as plt"
   ]
  },
  {
   "cell_type": "code",
   "execution_count": 127,
   "metadata": {},
   "outputs": [],
   "source": [
    "# ************  Genetik Algoritmanın Yapısı  ************ #\n",
    "\n",
    "def create_password(gene):\n",
    "    \n",
    "    # Ulaşılmak istenen parolanın oluşturulması\n",
    "    number_of_ones = int(gene / 2)\n",
    "    password = np.zeros(gene)\n",
    "    password[0: number_of_ones] = 1\n",
    "    np.random.shuffle(password)\n",
    "    \n",
    "    return password\n",
    "\n",
    "\n",
    "def create_population(chromosome, gene):\n",
    "\n",
    "    # Başlangıç Popülanyonunun oluşturulması\n",
    "    population = np.zeros((chromosome, gene))\n",
    "\n",
    "    for i in range(chromosome):\n",
    "        ones = random.randint(0, gene)\n",
    "        population[i, 0:ones] = 1\n",
    "        np.random.shuffle(population[i])\n",
    "    \n",
    "    return population\n",
    "\n",
    "\n",
    "def fitness(password, population):\n",
    "\n",
    "    # Doğru eşleşen değerlerin tespiti\n",
    "    identical_to_password = population == password\n",
    "    fitness_scores = identical_to_password.sum(axis=1)\n",
    "    \n",
    "    return fitness_scores\n",
    "\n",
    "\n",
    "def selection(population, scores):\n",
    "\n",
    "    # Turnuva Seçimi Metodu ile fitness değeri yüksek bireylerin seçilmesi\n",
    "    population_size = len(scores)\n",
    "    \n",
    "    fighter_1 = random.randint(0, population_size-1)\n",
    "    fighter_2 = random.randint(0, population_size-1)\n",
    "    \n",
    "    fighter_1_fitness = scores[fighter_1]\n",
    "    fighter_2_fitness = scores[fighter_2]\n",
    "    \n",
    "    if fighter_1_fitness >= fighter_2_fitness:\n",
    "        winner = fighter_1\n",
    "    else:\n",
    "        winner = fighter_2\n",
    "    \n",
    "    return population[winner, :]\n",
    "\n",
    "\n",
    "def crossingover(parent_1, parent_2):\n",
    "    \n",
    "    # Ebeveynlerden yeni bireylerin oluşturulması\n",
    "    gene = len(parent_1)\n",
    "    \n",
    "    crossover_point = random.randint(1,gene-1)\n",
    "    \n",
    "    child_1 = np.hstack((parent_1[0:crossover_point],\n",
    "                        parent_2[crossover_point:]))\n",
    "    child_2 = np.hstack((parent_2[0:crossover_point],\n",
    "                        parent_1[crossover_point:]))\n",
    "    \n",
    "    return child_1, child_2\n",
    "    \n",
    "\n",
    "def mutation(population, mutation_probability):\n",
    "    \n",
    "    # Yeni bireylerde Mutasyon ile çeşitliliğin arttırılması\n",
    "    random_mutation_array = np.random.random(\n",
    "        size=(population.shape))\n",
    "        \n",
    "    random_mutation_boolean = \\\n",
    "        random_mutation_array <= mutation_probability\n",
    "\n",
    "    population[random_mutation_boolean] = \\\n",
    "    np.logical_not(population[random_mutation_boolean])\n",
    "        \n",
    "    return population"
   ]
  },
  {
   "cell_type": "code",
   "execution_count": 128,
   "metadata": {},
   "outputs": [
    {
     "name": "stdout",
     "output_type": "stream",
     "text": [
      "Başlangıç Skoru:  62.5\n",
      "En İyi Skor:  100.0\n"
     ]
    }
   ],
   "source": [
    "# ************  Ana Bölüm  ************ #\n",
    "\n",
    "# Genel Parametreler\n",
    "gene = 40\n",
    "population_size = 50\n",
    "maximum_generation = 200\n",
    "mutation_probability = 0.01\n",
    "best_score_progress = []\n",
    "\n",
    "# Parola Oluştur\n",
    "password = create_password(gene)\n",
    "\n",
    "# Başlangıç Popülasyonu\n",
    "population = create_population(population_size, gene)\n",
    "\n",
    "# İlk popülasyonun skorunu göster.\n",
    "scores = fitness(password, population)\n",
    "best_score = np.max(scores)/gene * 100\n",
    "print ('Başlangıç Skoru: ',best_score)\n",
    "\n",
    "# En iyi skorların tablosu\n",
    "best_score_progress.append(best_score)\n",
    "\n",
    "# İterasyonu max_generation kadar tekrarla\n",
    "for generation in range(maximum_generation):\n",
    "\n",
    "    new_population = []\n",
    "    \n",
    "    # Ebeveynlerden çaprazlama ile yeni genler elde et\n",
    "    for i in range(int(population_size/2)):\n",
    "        parent_1 = selection(population, scores)\n",
    "        parent_2 = selection(population, scores)\n",
    "        child_1, child_2 = crossingover(parent_1, parent_2)\n",
    "        new_population.append(child_1)\n",
    "        new_population.append(child_2)\n",
    "    \n",
    "    # Yeni bireylerin mutasyonu\n",
    "    population = np.array(new_population)\n",
    "    population = mutation(population, mutation_probability)\n",
    "    \n",
    "    # Skorları hesapla ve skor tablosu oluştur\n",
    "    scores = fitness(password, population)\n",
    "    best_score = np.max(scores)/gene * 100\n",
    "    best_score_progress.append(best_score)\n",
    "\n",
    "# Son skoru yazdır.\n",
    "print ('En İyi Skor: ', best_score)\n"
   ]
  },
  {
   "cell_type": "code",
   "execution_count": 129,
   "metadata": {},
   "outputs": [
    {
     "data": {
      "image/png": "[encoded data removed]",
      "text/plain": [
       "<Figure size 432x288 with 1 Axes>"
      ]
     },
     "metadata": {},
     "output_type": "display_data"
    }
   ],
   "source": [
    "# ************  Skorların Çizdirilmesi  ************ # \n",
    "\n",
    "plt.plot(best_score_progress)\n",
    "plt.xlabel('İterasyon')\n",
    "plt.ylabel('Skor')\n",
    "plt.show()"
   ]
  },
  {
   "cell_type": "code",
   "execution_count": null,
   "metadata": {},
   "outputs": [],
   "source": []
  }
 ],
 "metadata": {
  "kernelspec": {
   "display_name": "Python 3",
   "language": "python",
   "name": "python3"
  },
  "language_info": {
   "codemirror_mode": {
    "name": "ipython",
    "version": 3
   },
   "file_extension": ".py",
   "mimetype": "text/x-python",
   "name": "python",
   "nbconvert_exporter": "python",
   "pygments_lexer": "ipython3",
   "version": "3.5.4"
  }
 },
 "nbformat": 4,
 "nbformat_minor": 2
}
